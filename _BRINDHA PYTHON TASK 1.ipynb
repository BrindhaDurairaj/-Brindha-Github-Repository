{
 "cells": [
  {
   "cell_type": "code",
   "execution_count": null,
   "id": "4a91474b-0ae8-423f-82fd-d73559950abe",
   "metadata": {},
   "outputs": [],
   "source": [
    "Create a list and add one more element at the end of the list"
   ]
  },
  {
   "cell_type": "code",
   "execution_count": 57,
   "id": "c1b8af82-0277-4ce3-9e81-6685bae6c2e7",
   "metadata": {},
   "outputs": [
    {
     "name": "stdout",
     "output_type": "stream",
     "text": [
      "[10, 20, 30]\n"
     ]
    }
   ],
   "source": [
    "a=[10,20,30]\n",
    "print (a)"
   ]
  },
  {
   "cell_type": "code",
   "execution_count": 58,
   "id": "668d675e-8147-46e8-bec1-b20889b157b6",
   "metadata": {},
   "outputs": [
    {
     "name": "stdout",
     "output_type": "stream",
     "text": [
      "[10, 20, 30, 40]\n"
     ]
    }
   ],
   "source": [
    "a.append(40)\n",
    "print (a)"
   ]
  },
  {
   "cell_type": "code",
   "execution_count": null,
   "id": "e6c9cc9e-9cd9-4baa-9745-1dced541ce79",
   "metadata": {},
   "outputs": [],
   "source": [
    "Create a function to calculate product of two numbers"
   ]
  },
  {
   "cell_type": "code",
   "execution_count": null,
   "id": "70cf0f30-7972-42b1-ad2f-95d97e3201a4",
   "metadata": {},
   "outputs": [],
   "source": [
    "def calculate_product(a,b):\n",
    "    return a*b"
   ]
  },
  {
   "cell_type": "code",
   "execution_count": null,
   "id": "71756e52-2db5-41d9-9a08-5a3b813dbdbc",
   "metadata": {},
   "outputs": [],
   "source": [
    "Num1 = 5\n",
    "Num2 = 8\n",
    "product = calculate_product(Num1, Num2)\n",
    "print(f\"The product of {Num1} and {Num2} is {product}.\")"
   ]
  },
  {
   "cell_type": "code",
   "execution_count": null,
   "id": "b183c039-f491-4e75-92a0-16f1428713fc",
   "metadata": {},
   "outputs": [],
   "source": [
    "Create a parametric function to convert celsius to fahrenheit"
   ]
  },
  {
   "cell_type": "code",
   "execution_count": null,
   "id": "0194a126-e872-4be3-a849-5e01a56401a6",
   "metadata": {},
   "outputs": [],
   "source": [
    "Num1 = 6\n",
    "Num2 = 7\n",
    "product = calculate_product(Num1, Num2)\n",
    "print(f\"The product of {Num1} and {Num2} is {product}.\")"
   ]
  },
  {
   "cell_type": "code",
   "execution_count": 24,
   "id": "1c8a1fd4-1f54-4a4f-8675-e22914f8461f",
   "metadata": {},
   "outputs": [
    {
     "data": {
      "text/plain": [
       "120.60000000000001"
      ]
     },
     "execution_count": 24,
     "metadata": {},
     "output_type": "execute_result"
    }
   ],
   "source": [
    "def fahrenheit(T):\n",
    "    return((9/5)*(T+32))\n",
    "f=fahrenheit(35)\n",
    "f"
   ]
  },
  {
   "cell_type": "code",
   "execution_count": 27,
   "id": "a9de8cfb-e7c3-4f42-b7be-a2afb4274baf",
   "metadata": {},
   "outputs": [
    {
     "data": {
      "text/plain": [
       "73.33333333333334"
      ]
     },
     "execution_count": 27,
     "metadata": {},
     "output_type": "execute_result"
    }
   ],
   "source": [
    "def celcius(T):\n",
    "   return((5/9)*(T+32))\n",
    "c=celcius(100)\n",
    "c"
   ]
  },
  {
   "cell_type": "code",
   "execution_count": null,
   "id": "c207a69b-9770-4d21-b1ed-e93c711b18b6",
   "metadata": {},
   "outputs": [],
   "source": [
    "create two numpy arrays and perform broadcasting."
   ]
  },
  {
   "cell_type": "code",
   "execution_count": 28,
   "id": "1504ff4a-4787-493c-929f-01d4c3a1a77e",
   "metadata": {},
   "outputs": [],
   "source": [
    "import numpy as np"
   ]
  },
  {
   "cell_type": "code",
   "execution_count": 29,
   "id": "7acdefbf-1c2e-46f5-b97c-b54197f0a5b6",
   "metadata": {},
   "outputs": [],
   "source": [
    "array1 = np.array([1,2,3,4])\n",
    "array2 = np.array([10,20,30,40])"
   ]
  },
  {
   "cell_type": "code",
   "execution_count": 31,
   "id": "bcd2b494-6668-40f5-9ac1-df664b6cd91f",
   "metadata": {},
   "outputs": [
    {
     "name": "stdout",
     "output_type": "stream",
     "text": [
      "Broadcasted Result:\n",
      " [11 22 33 44]\n"
     ]
    }
   ],
   "source": [
    "result = array1 + array2\n",
    "print(\"Broadcasted Result:\\n\",result)"
   ]
  },
  {
   "cell_type": "code",
   "execution_count": 33,
   "id": "98e6b819-ea31-42f7-95bb-32781985a321",
   "metadata": {},
   "outputs": [],
   "source": [
    "array1 = np.array([5,6,7,8])\n",
    "array2 = np.array([10,20,30,40])"
   ]
  },
  {
   "cell_type": "code",
   "execution_count": 34,
   "id": "9396bf42-a434-41f2-a75b-e87ae2256e76",
   "metadata": {},
   "outputs": [
    {
     "name": "stdout",
     "output_type": "stream",
     "text": [
      "Broadcasted Result:\n",
      " [15 26 37 48]\n"
     ]
    }
   ],
   "source": [
    "result = array1 + array2\n",
    "print(\"Broadcasted Result:\\n\",result)"
   ]
  },
  {
   "cell_type": "code",
   "execution_count": null,
   "id": "662545e7-caed-491b-bed3-6752d669c91f",
   "metadata": {},
   "outputs": [],
   "source": [
    "create a numpy array and convert it into a dataframe"
   ]
  },
  {
   "cell_type": "raw",
   "id": "b84738e8-b04d-46cf-9e9b-1d56a1c43b0d",
   "metadata": {},
   "source": [
    "import pandas as Pd\n",
    "import numpy as np"
   ]
  },
  {
   "cell_type": "code",
   "execution_count": 44,
   "id": "02e71cd9-2ef1-4c02-8fa4-fb6c34a3d92a",
   "metadata": {},
   "outputs": [
    {
     "data": {
      "text/plain": [
       "array([1., 2., 3.], dtype=float32)"
      ]
     },
     "execution_count": 44,
     "metadata": {},
     "output_type": "execute_result"
    }
   ],
   "source": [
    "arr=np.array([1,2,3],dtype=np.float32)\n",
    "arr"
   ]
  },
  {
   "cell_type": "code",
   "execution_count": 45,
   "id": "1e0f4316-bfe8-4be0-b511-e6d4c38c323c",
   "metadata": {},
   "outputs": [
    {
     "data": {
      "text/plain": [
       "array([10, 20, 30, 40], dtype=int64)"
      ]
     },
     "execution_count": 45,
     "metadata": {},
     "output_type": "execute_result"
    }
   ],
   "source": [
    "b=np.array([10,20,30,40],dtype=np.int64)\n",
    "b"
   ]
  },
  {
   "cell_type": "code",
   "execution_count": null,
   "id": "df9cff1c-caea-4346-be96-2870bec6ea71",
   "metadata": {},
   "outputs": [],
   "source": [
    "create a Dictionary and convert it into a DataFrame"
   ]
  },
  {
   "cell_type": "code",
   "execution_count": 46,
   "id": "c9f3539f-ef29-4157-b003-c86edaaa9ad6",
   "metadata": {},
   "outputs": [],
   "source": [
    "import pandas as pd"
   ]
  },
  {
   "cell_type": "code",
   "execution_count": 47,
   "id": "3479341a-d7b1-436d-926c-a83edcd3e7ff",
   "metadata": {},
   "outputs": [],
   "source": [
    "Data = {\"Name\": [\"Alice\",\"Bob\"], \"Age\": [25,22]}"
   ]
  },
  {
   "cell_type": "code",
   "execution_count": 48,
   "id": "aa4e5b5c-ff05-4f8e-ad9b-b9c29801bb88",
   "metadata": {},
   "outputs": [
    {
     "name": "stdout",
     "output_type": "stream",
     "text": [
      "    Name  Age\n",
      "0  Alice   25\n",
      "1    Bob   22\n"
     ]
    }
   ],
   "source": [
    "df_dict = pd.DataFrame(Data)\n",
    "print(df_dict)"
   ]
  },
  {
   "cell_type": "code",
   "execution_count": 51,
   "id": "ce7fe110-d5fd-40a0-9cbd-f536d1f0ee57",
   "metadata": {},
   "outputs": [
    {
     "data": {
      "text/html": [
       "<div>\n",
       "<style scoped>\n",
       "    .dataframe tbody tr th:only-of-type {\n",
       "        vertical-align: middle;\n",
       "    }\n",
       "\n",
       "    .dataframe tbody tr th {\n",
       "        vertical-align: top;\n",
       "    }\n",
       "\n",
       "    .dataframe thead th {\n",
       "        text-align: right;\n",
       "    }\n",
       "</style>\n",
       "<table border=\"1\" class=\"dataframe\">\n",
       "  <thead>\n",
       "    <tr style=\"text-align: right;\">\n",
       "      <th></th>\n",
       "      <th>0</th>\n",
       "      <th>1</th>\n",
       "    </tr>\n",
       "  </thead>\n",
       "  <tbody>\n",
       "    <tr>\n",
       "      <th>0</th>\n",
       "      <td>Brindha</td>\n",
       "      <td>23</td>\n",
       "    </tr>\n",
       "    <tr>\n",
       "      <th>1</th>\n",
       "      <td>Abi</td>\n",
       "      <td>25</td>\n",
       "    </tr>\n",
       "    <tr>\n",
       "      <th>2</th>\n",
       "      <td>Azar</td>\n",
       "      <td>26</td>\n",
       "    </tr>\n",
       "  </tbody>\n",
       "</table>\n",
       "</div>"
      ],
      "text/plain": [
       "         0   1\n",
       "0  Brindha  23\n",
       "1      Abi  25\n",
       "2     Azar  26"
      ]
     },
     "execution_count": 51,
     "metadata": {},
     "output_type": "execute_result"
    }
   ],
   "source": [
    "Data=[['Brindha',23],['Abi',25],['Azar',26]]\n",
    "df=pd.DataFrame(Data)\n",
    "df"
   ]
  },
  {
   "cell_type": "markdown",
   "id": "d79ec9cd-11c3-4ad5-98bb-7ffadee02604",
   "metadata": {},
   "source": []
  },
  {
   "cell_type": "code",
   "execution_count": 54,
   "id": "abe5499d-86e2-4dda-8bbd-1c1daf11c1e9",
   "metadata": {},
   "outputs": [
    {
     "data": {
      "text/html": [
       "<div>\n",
       "<style scoped>\n",
       "    .dataframe tbody tr th:only-of-type {\n",
       "        vertical-align: middle;\n",
       "    }\n",
       "\n",
       "    .dataframe tbody tr th {\n",
       "        vertical-align: top;\n",
       "    }\n",
       "\n",
       "    .dataframe thead th {\n",
       "        text-align: right;\n",
       "    }\n",
       "</style>\n",
       "<table border=\"1\" class=\"dataframe\">\n",
       "  <thead>\n",
       "    <tr style=\"text-align: right;\">\n",
       "      <th></th>\n",
       "      <th>Name</th>\n",
       "      <th>Age</th>\n",
       "    </tr>\n",
       "  </thead>\n",
       "  <tbody>\n",
       "    <tr>\n",
       "      <th>0</th>\n",
       "      <td>Brindha</td>\n",
       "      <td>23</td>\n",
       "    </tr>\n",
       "    <tr>\n",
       "      <th>1</th>\n",
       "      <td>Abi</td>\n",
       "      <td>25</td>\n",
       "    </tr>\n",
       "    <tr>\n",
       "      <th>2</th>\n",
       "      <td>Azar</td>\n",
       "      <td>26</td>\n",
       "    </tr>\n",
       "  </tbody>\n",
       "</table>\n",
       "</div>"
      ],
      "text/plain": [
       "      Name  Age\n",
       "0  Brindha   23\n",
       "1      Abi   25\n",
       "2     Azar   26"
      ]
     },
     "execution_count": 54,
     "metadata": {},
     "output_type": "execute_result"
    }
   ],
   "source": [
    "df=pd.DataFrame(Data,columns=['Name','Age'])\n",
    "df"
   ]
  },
  {
   "cell_type": "code",
   "execution_count": null,
   "id": "270970f0-3dad-49d5-8e55-bb7557842a51",
   "metadata": {},
   "outputs": [],
   "source": []
  },
  {
   "cell_type": "code",
   "execution_count": null,
   "id": "cd2f5d79-c0e5-4fea-ab5e-75f9270be895",
   "metadata": {},
   "outputs": [],
   "source": []
  }
 ],
 "metadata": {
  "kernelspec": {
   "display_name": "Python 3 (ipykernel)",
   "language": "python",
   "name": "python3"
  },
  "language_info": {
   "codemirror_mode": {
    "name": "ipython",
    "version": 3
   },
   "file_extension": ".py",
   "mimetype": "text/x-python",
   "name": "python",
   "nbconvert_exporter": "python",
   "pygments_lexer": "ipython3",
   "version": "3.12.7"
  }
 },
 "nbformat": 4,
 "nbformat_minor": 5
}
